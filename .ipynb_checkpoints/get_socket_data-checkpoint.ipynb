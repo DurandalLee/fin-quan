{
 "cells": [
  {
   "cell_type": "code",
   "execution_count": 2,
   "metadata": {},
   "outputs": [],
   "source": [
    "import numpy as np\n",
    "import pandas as pd"
   ]
  },
  {
   "cell_type": "code",
   "execution_count": 49,
   "metadata": {},
   "outputs": [],
   "source": [
    "import tushare as ts\n",
    "ts.set_token('5eba336d44874ed58899ff7c22fd4f9042413484239d77fc884faa4e')\n",
    "pro = ts.pro_api()\n",
    "\n",
    "# 沪深300\n",
    "df_300 = pro.index_daily(ts_code='000300.SH',start_date='20100101', end_date='20210303')\n",
    "df_SH = pro.index_daily(ts_code='000001.SH',start_date='20100101', end_date='20210303')"
   ]
  },
  {
   "cell_type": "code",
   "execution_count": 51,
   "metadata": {
    "scrolled": false
   },
   "outputs": [],
   "source": [
    "source_data=pd.merge(df_SH,df_300,on=\"trade_date\")"
   ]
  },
  {
   "cell_type": "code",
   "execution_count": 52,
   "metadata": {},
   "outputs": [
    {
     "data": {
      "text/plain": [
       "Index(['ts_code_x', 'trade_date', 'close_x', 'open_x', 'high_x', 'low_x',\n",
       "       'pre_close_x', 'change_x', 'pct_chg_x', 'vol_x', 'amount_x',\n",
       "       'ts_code_y', 'close_y', 'open_y', 'high_y', 'low_y', 'pre_close_y',\n",
       "       'change_y', 'pct_chg_y', 'vol_y', 'amount_y'],\n",
       "      dtype='object')"
      ]
     },
     "execution_count": 52,
     "metadata": {},
     "output_type": "execute_result"
    }
   ],
   "source": [
    "source_data.columns"
   ]
  },
  {
   "cell_type": "code",
   "execution_count": 60,
   "metadata": {},
   "outputs": [],
   "source": [
    "dealt=source_data.drop(columns=['ts_code_x','ts_code_y','pre_close_x','pre_close_y',\n",
    "                                'change_x','change_y','amount_x','amount_y','open_x','open_y',\n",
    "                                'high_x','high_y','low_x','low_y']).iloc[::-1]"
   ]
  },
  {
   "cell_type": "code",
   "execution_count": 62,
   "metadata": {},
   "outputs": [],
   "source": [
    "dealt.to_csv(\"SH_SZ_300.csv\", index=False, sep=',')"
   ]
  },
  {
   "cell_type": "code",
   "execution_count": 48,
   "metadata": {},
   "outputs": [
    {
     "data": {
      "text/plain": [
       "'\\ntrade_date 交易日\\nclose 收盘点位\\npct_chg 涨跌幅（%）\\nvol 成交量（手）\\n'"
      ]
     },
     "execution_count": 48,
     "metadata": {},
     "output_type": "execute_result"
    }
   ],
   "source": [
    "\"\"\"\n",
    "trade_date 交易日\n",
    "close 收盘点位\n",
    "pct_chg 涨跌幅（%）\n",
    "vol 成交量（手）\n",
    "\"\"\""
   ]
  },
  {
   "cell_type": "code",
   "execution_count": null,
   "metadata": {},
   "outputs": [],
   "source": []
  },
  {
   "cell_type": "code",
   "execution_count": 76,
   "metadata": {},
   "outputs": [
    {
     "data": {
      "text/html": [
       "<div>\n",
       "<style scoped>\n",
       "    .dataframe tbody tr th:only-of-type {\n",
       "        vertical-align: middle;\n",
       "    }\n",
       "\n",
       "    .dataframe tbody tr th {\n",
       "        vertical-align: top;\n",
       "    }\n",
       "\n",
       "    .dataframe thead th {\n",
       "        text-align: right;\n",
       "    }\n",
       "</style>\n",
       "<table border=\"1\" class=\"dataframe\">\n",
       "  <thead>\n",
       "    <tr style=\"text-align: right;\">\n",
       "      <th></th>\n",
       "      <th>trade_date</th>\n",
       "      <th>close_x</th>\n",
       "      <th>pct_chg_x</th>\n",
       "      <th>vol_x</th>\n",
       "      <th>close_y</th>\n",
       "      <th>pct_chg_y</th>\n",
       "      <th>vol_y</th>\n",
       "    </tr>\n",
       "  </thead>\n",
       "  <tbody>\n",
       "    <tr>\n",
       "      <th>0</th>\n",
       "      <td>20100104</td>\n",
       "      <td>3243.7600</td>\n",
       "      <td>-1.0185</td>\n",
       "      <td>109447927.0</td>\n",
       "      <td>3535.2290</td>\n",
       "      <td>-1.1314</td>\n",
       "      <td>66101080.0</td>\n",
       "    </tr>\n",
       "    <tr>\n",
       "      <th>1</th>\n",
       "      <td>20100105</td>\n",
       "      <td>3282.1790</td>\n",
       "      <td>1.1844</td>\n",
       "      <td>126115066.0</td>\n",
       "      <td>3564.0380</td>\n",
       "      <td>0.8149</td>\n",
       "      <td>85809641.0</td>\n",
       "    </tr>\n",
       "    <tr>\n",
       "      <th>2</th>\n",
       "      <td>20100106</td>\n",
       "      <td>3254.2150</td>\n",
       "      <td>-0.8520</td>\n",
       "      <td>123651384.0</td>\n",
       "      <td>3541.7270</td>\n",
       "      <td>-0.6260</td>\n",
       "      <td>78473125.0</td>\n",
       "    </tr>\n",
       "    <tr>\n",
       "      <th>3</th>\n",
       "      <td>20100107</td>\n",
       "      <td>3192.7760</td>\n",
       "      <td>-1.8880</td>\n",
       "      <td>128652827.0</td>\n",
       "      <td>3471.4560</td>\n",
       "      <td>-1.9841</td>\n",
       "      <td>80350037.0</td>\n",
       "    </tr>\n",
       "    <tr>\n",
       "      <th>4</th>\n",
       "      <td>20100108</td>\n",
       "      <td>3195.9970</td>\n",
       "      <td>0.1009</td>\n",
       "      <td>98377147.0</td>\n",
       "      <td>3480.1300</td>\n",
       "      <td>0.2499</td>\n",
       "      <td>60790253.0</td>\n",
       "    </tr>\n",
       "    <tr>\n",
       "      <th>...</th>\n",
       "      <td>...</td>\n",
       "      <td>...</td>\n",
       "      <td>...</td>\n",
       "      <td>...</td>\n",
       "      <td>...</td>\n",
       "      <td>...</td>\n",
       "      <td>...</td>\n",
       "    </tr>\n",
       "    <tr>\n",
       "      <th>2707</th>\n",
       "      <td>20210225</td>\n",
       "      <td>3585.0458</td>\n",
       "      <td>0.5883</td>\n",
       "      <td>366232299.0</td>\n",
       "      <td>5469.5584</td>\n",
       "      <td>0.5883</td>\n",
       "      <td>230736028.0</td>\n",
       "    </tr>\n",
       "    <tr>\n",
       "      <th>2708</th>\n",
       "      <td>20210226</td>\n",
       "      <td>3509.0804</td>\n",
       "      <td>-2.1190</td>\n",
       "      <td>333280067.0</td>\n",
       "      <td>5336.7609</td>\n",
       "      <td>-2.4279</td>\n",
       "      <td>212264543.0</td>\n",
       "    </tr>\n",
       "    <tr>\n",
       "      <th>2709</th>\n",
       "      <td>20210301</td>\n",
       "      <td>3551.3998</td>\n",
       "      <td>1.2060</td>\n",
       "      <td>315487526.0</td>\n",
       "      <td>5418.7837</td>\n",
       "      <td>1.5369</td>\n",
       "      <td>177463523.0</td>\n",
       "    </tr>\n",
       "    <tr>\n",
       "      <th>2710</th>\n",
       "      <td>20210302</td>\n",
       "      <td>3508.5912</td>\n",
       "      <td>-1.2054</td>\n",
       "      <td>339830486.0</td>\n",
       "      <td>5349.6301</td>\n",
       "      <td>-1.2762</td>\n",
       "      <td>196511115.0</td>\n",
       "    </tr>\n",
       "    <tr>\n",
       "      <th>2711</th>\n",
       "      <td>20210303</td>\n",
       "      <td>3576.9045</td>\n",
       "      <td>1.9470</td>\n",
       "      <td>347656846.0</td>\n",
       "      <td>5452.2125</td>\n",
       "      <td>1.9176</td>\n",
       "      <td>194709054.0</td>\n",
       "    </tr>\n",
       "  </tbody>\n",
       "</table>\n",
       "<p>2712 rows × 7 columns</p>\n",
       "</div>"
      ],
      "text/plain": [
       "      trade_date    close_x  pct_chg_x        vol_x    close_y  pct_chg_y  \\\n",
       "0       20100104  3243.7600    -1.0185  109447927.0  3535.2290    -1.1314   \n",
       "1       20100105  3282.1790     1.1844  126115066.0  3564.0380     0.8149   \n",
       "2       20100106  3254.2150    -0.8520  123651384.0  3541.7270    -0.6260   \n",
       "3       20100107  3192.7760    -1.8880  128652827.0  3471.4560    -1.9841   \n",
       "4       20100108  3195.9970     0.1009   98377147.0  3480.1300     0.2499   \n",
       "...          ...        ...        ...          ...        ...        ...   \n",
       "2707    20210225  3585.0458     0.5883  366232299.0  5469.5584     0.5883   \n",
       "2708    20210226  3509.0804    -2.1190  333280067.0  5336.7609    -2.4279   \n",
       "2709    20210301  3551.3998     1.2060  315487526.0  5418.7837     1.5369   \n",
       "2710    20210302  3508.5912    -1.2054  339830486.0  5349.6301    -1.2762   \n",
       "2711    20210303  3576.9045     1.9470  347656846.0  5452.2125     1.9176   \n",
       "\n",
       "            vol_y  \n",
       "0      66101080.0  \n",
       "1      85809641.0  \n",
       "2      78473125.0  \n",
       "3      80350037.0  \n",
       "4      60790253.0  \n",
       "...           ...  \n",
       "2707  230736028.0  \n",
       "2708  212264543.0  \n",
       "2709  177463523.0  \n",
       "2710  196511115.0  \n",
       "2711  194709054.0  \n",
       "\n",
       "[2712 rows x 7 columns]"
      ]
     },
     "execution_count": 76,
     "metadata": {},
     "output_type": "execute_result"
    }
   ],
   "source": [
    "pd.read_csv(\"SH_SZ_300.csv\")"
   ]
  },
  {
   "cell_type": "code",
   "execution_count": null,
   "metadata": {},
   "outputs": [],
   "source": []
  },
  {
   "cell_type": "code",
   "execution_count": 31,
   "metadata": {},
   "outputs": [],
   "source": [
    "data_set=pd.read_csv(\"SH_SZ_300.csv\")"
   ]
  },
  {
   "cell_type": "code",
   "execution_count": 6,
   "metadata": {},
   "outputs": [],
   "source": [
    "unit_size=60\n",
    "unit_number=data_set.shape[0]-unit_size+1\n",
    "data_column=['close_x','close_y','vol_x']"
   ]
  },
  {
   "cell_type": "code",
   "execution_count": 29,
   "metadata": {},
   "outputs": [],
   "source": [
    "import torch\n",
    "from torch.utils.data import Dataset"
   ]
  },
  {
   "cell_type": "code",
   "execution_count": 32,
   "metadata": {},
   "outputs": [],
   "source": [
    "trans_data=TransformerData(data_set,60,7)"
   ]
  },
  {
   "cell_type": "code",
   "execution_count": null,
   "metadata": {},
   "outputs": [],
   "source": []
  },
  {
   "cell_type": "code",
   "execution_count": 30,
   "metadata": {},
   "outputs": [],
   "source": [
    "class TransformerData(Dataset):\n",
    "    def __init__(self, data_set: pd.DataFrame, unit_size: int, predict_size: int):\n",
    "        \"\"\"\n",
    "        :param data_set: data set for transformer\n",
    "        :param unit_size: number of days for a unit\n",
    "        \"\"\"\n",
    "        self.data_set = data_set\n",
    "        self.unit_size = unit_size\n",
    "        self.predict_size = predict_size\n",
    "        self.unit_number = int(data_set.shape[0] - unit_size + 1)\n",
    "        self.data_columns = []\n",
    "\n",
    "        data_size = data_set.shape[-1]\n",
    "        self.max_set = np.zeros((self.unit_number, data_size))\n",
    "        self.min_set = np.zeros((self.unit_number, data_size))\n",
    "\n",
    "        self.feature = np.zeros(1)\n",
    "        self.en_x = self.de_x = self.de_y = []\n",
    "        self.anti_feature = pd.DataFrame()\n",
    "\n",
    "    def create_dataset(self, column: list):\n",
    "        \"\"\"\n",
    "        create dataset for encoder input(en_x),decoder input(de_x) and decoder output(y)\n",
    "        :param column: specified data name\n",
    "        \"\"\"\n",
    "        self.data_set = self.data_set.get(column).values\n",
    "        self.data_columns = column\n",
    "\n",
    "        # create unit data\n",
    "        source_data = []\n",
    "        for unit_i in range(self.unit_number):\n",
    "            source_data.append(self.data_set[unit_i:unit_i + self.unit_size])\n",
    "        source_data = np.array(source_data).astype(float)\n",
    "\n",
    "        # normalized data set\n",
    "        norm_data, self.max_set, self.min_set = max_min_normalised(source_data)\n",
    "        # create encoder and decoder input data set\n",
    "        self.en_x = self.de_x = norm_data[:, :-self.predict_size]\n",
    "        self.de_y = norm_data[:, self.predict_size:]\n",
    "\n",
    "    def __len__(self):\n",
    "        return len(self.en_x)\n",
    "\n",
    "    def __getitem__(self, item: int):\n",
    "        return self.en_x[item], self.de_x[item], self.de_y[item]\n",
    "\n",
    "    def generate_feature(self, model):\n",
    "        \"\"\"\n",
    "        generate feature by model\n",
    "        :param model: trained model\n",
    "        \"\"\"\n",
    "        # feature sequence, all feature data\n",
    "        feature_seq = []\n",
    "        group_num = int(self.unit_number / self.unit_size)\n",
    "\n",
    "        for unit_i in range(group_num):\n",
    "            tmp_en = torch.as_tensor(self.en_x[unit_i * self.unit_size], dtype=torch.float32)\n",
    "            tmp_de = torch.as_tensor(self.de_x[unit_i * self.unit_size], dtype=torch.float32)\n",
    "\n",
    "            for tmp_i in range(self.unit_size):\n",
    "                tmp = model(tmp_en[np.newaxis, :, :], tmp_de[np.newaxis, :, :]).detach().numpy()\n",
    "                feature_seq.append(tmp)\n",
    "\n",
    "        self.feature = np.array(feature_seq)\n",
    "\n",
    "    def generate_data(self):\n",
    "        \"\"\"\n",
    "        according to feature,anti_normalized all data\n",
    "        \"\"\"\n",
    "        generate_data = []\n",
    "        group_num = int(self.unit_number / self.unit_size)\n",
    "\n",
    "        for unit_i in range(group_num):\n",
    "            feature_tmp = self.feature[unit_i * self.unit_size:(unit_i+1) * self.unit_size]\n",
    "            generate_data.append(anti_max_min_normalised(feature_tmp, self.max_set[unit_i], self.min_set[unit_i]))\n",
    "\n",
    "        self.anti_feature = pd.DataFrame(\n",
    "            np.array(generate_data).reshape(-1, self.feature.shape[-1]),\n",
    "            columns=self.data_columns\n",
    "        )"
   ]
  },
  {
   "cell_type": "code",
   "execution_count": 33,
   "metadata": {},
   "outputs": [],
   "source": [
    "def anti_max_min_normalised(norm_data: np.array, max_set: float, min_set: float):\n",
    "    \"\"\"\n",
    "    Maximum and minimum anti_normalization\n",
    "    :param norm_data: a unit data\n",
    "    :param max_set: maximum data in norm_data\n",
    "    :param min_set: minimum data in norm_data\n",
    "    :return:\n",
    "        anti_data: anti_normalised data\n",
    "    \"\"\"\n",
    "    anti_data = []\n",
    "    for col_i in range(norm_data.shape[0]):\n",
    "        data_i = norm_data[col_i]\n",
    "        data_i = data_i * min_set + max_set\n",
    "\n",
    "        anti_data.append(data_i)\n",
    "    return np.array(anti_data)\n"
   ]
  },
  {
   "cell_type": "code",
   "execution_count": null,
   "metadata": {},
   "outputs": [],
   "source": [
    "def max_min_normalised(data: np.array):\n",
    "    \"\"\"\n",
    "    Maximum and minimum normalization\n",
    "    :param data: data that needs to be normalized\n",
    "    :return:\n",
    "        max_set: maximum data in each unit\n",
    "        min_set: maximum data in each unit\n",
    "        normal_data: normalized data\n",
    "    \"\"\"\n",
    "    unit_num = data.shape[0]\n",
    "    \n",
    "    max_set = np.zeros(unit_num,data.shape[-1])\n",
    "    min_set = np.zeros(unit_num,data.shape[-1])\n",
    "    normal_data = []\n",
    "\n",
    "    for col_i in range(col_num):\n",
    "        data_i = data[col_i]\n",
    "\n",
    "        min_set[col_i] = min(data_i)\n",
    "        data_i = data_i - min(data_i)\n",
    "        max_set[col_i] = max(data_i)\n",
    "        data_i = data_i / max(data_i)\n",
    "\n",
    "        normal_data.append(data_i)\n",
    "\n",
    "    return np.array(normal_data), max_set, min_set"
   ]
  },
  {
   "cell_type": "code",
   "execution_count": 39,
   "metadata": {},
   "outputs": [],
   "source": [
    "test=np.arange(0,60).reshape(5,4,3)"
   ]
  },
  {
   "cell_type": "code",
   "execution_count": 40,
   "metadata": {},
   "outputs": [
    {
     "ename": "ValueError",
     "evalue": "The truth value of an array with more than one element is ambiguous. Use a.any() or a.all()",
     "output_type": "error",
     "traceback": [
      "\u001b[1;31m---------------------------------------------------------------------------\u001b[0m",
      "\u001b[1;31mValueError\u001b[0m                                Traceback (most recent call last)",
      "\u001b[1;32m<ipython-input-40-339de700f9cb>\u001b[0m in \u001b[0;36m<module>\u001b[1;34m\u001b[0m\n\u001b[1;32m----> 1\u001b[1;33m \u001b[0mmax_min_normalised\u001b[0m\u001b[1;33m(\u001b[0m\u001b[0mtest\u001b[0m\u001b[1;33m)\u001b[0m\u001b[1;33m\u001b[0m\u001b[1;33m\u001b[0m\u001b[0m\n\u001b[0m",
      "\u001b[1;32m<ipython-input-33-bf1edf83de67>\u001b[0m in \u001b[0;36mmax_min_normalised\u001b[1;34m(data)\u001b[0m\n\u001b[0;32m     16\u001b[0m         \u001b[0mdata_i\u001b[0m \u001b[1;33m=\u001b[0m \u001b[0mdata\u001b[0m\u001b[1;33m[\u001b[0m\u001b[0mcol_i\u001b[0m\u001b[1;33m]\u001b[0m\u001b[1;33m\u001b[0m\u001b[1;33m\u001b[0m\u001b[0m\n\u001b[0;32m     17\u001b[0m \u001b[1;33m\u001b[0m\u001b[0m\n\u001b[1;32m---> 18\u001b[1;33m         \u001b[0mmin_set\u001b[0m\u001b[1;33m[\u001b[0m\u001b[0mcol_i\u001b[0m\u001b[1;33m]\u001b[0m \u001b[1;33m=\u001b[0m \u001b[0mmin\u001b[0m\u001b[1;33m(\u001b[0m\u001b[0mdata_i\u001b[0m\u001b[1;33m)\u001b[0m\u001b[1;33m\u001b[0m\u001b[1;33m\u001b[0m\u001b[0m\n\u001b[0m\u001b[0;32m     19\u001b[0m         \u001b[0mdata_i\u001b[0m \u001b[1;33m=\u001b[0m \u001b[0mdata_i\u001b[0m \u001b[1;33m-\u001b[0m \u001b[0mmin\u001b[0m\u001b[1;33m(\u001b[0m\u001b[0mdata_i\u001b[0m\u001b[1;33m)\u001b[0m\u001b[1;33m\u001b[0m\u001b[1;33m\u001b[0m\u001b[0m\n\u001b[0;32m     20\u001b[0m         \u001b[0mmax_set\u001b[0m\u001b[1;33m[\u001b[0m\u001b[0mcol_i\u001b[0m\u001b[1;33m]\u001b[0m \u001b[1;33m=\u001b[0m \u001b[0mmax\u001b[0m\u001b[1;33m(\u001b[0m\u001b[0mdata_i\u001b[0m\u001b[1;33m)\u001b[0m\u001b[1;33m\u001b[0m\u001b[1;33m\u001b[0m\u001b[0m\n",
      "\u001b[1;31mValueError\u001b[0m: The truth value of an array with more than one element is ambiguous. Use a.any() or a.all()"
     ]
    }
   ],
   "source": [
    "max_min_normalised(test)"
   ]
  },
  {
   "cell_type": "code",
   "execution_count": 49,
   "metadata": {},
   "outputs": [
    {
     "data": {
      "text/plain": [
       "array([ 9, 10, 11])"
      ]
     },
     "execution_count": 49,
     "metadata": {},
     "output_type": "execute_result"
    }
   ],
   "source": [
    "np.max(test[0],axis=0)"
   ]
  },
  {
   "cell_type": "code",
   "execution_count": 47,
   "metadata": {},
   "outputs": [
    {
     "data": {
      "text/plain": [
       "array([[ 0,  1,  2],\n",
       "       [ 3,  4,  5],\n",
       "       [ 6,  7,  8],\n",
       "       [ 9, 10, 11]])"
      ]
     },
     "execution_count": 47,
     "metadata": {},
     "output_type": "execute_result"
    }
   ],
   "source": [
    "test[0]"
   ]
  },
  {
   "cell_type": "code",
   "execution_count": null,
   "metadata": {},
   "outputs": [],
   "source": []
  }
 ],
 "metadata": {
  "kernelspec": {
   "display_name": "Python 3",
   "language": "python",
   "name": "python3"
  },
  "language_info": {
   "codemirror_mode": {
    "name": "ipython",
    "version": 3
   },
   "file_extension": ".py",
   "mimetype": "text/x-python",
   "name": "python",
   "nbconvert_exporter": "python",
   "pygments_lexer": "ipython3",
   "version": "3.8.5"
  }
 },
 "nbformat": 4,
 "nbformat_minor": 4
}
